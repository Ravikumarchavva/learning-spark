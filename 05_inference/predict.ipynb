{
 "cells": [
  {
   "cell_type": "code",
   "execution_count": 7,
   "id": "3c2d0a0e",
   "metadata": {},
   "outputs": [
    {
     "data": {
      "text/html": [
       "\n",
       "            <div>\n",
       "                <p><b>SparkSession - hive</b></p>\n",
       "                \n",
       "        <div>\n",
       "            <p><b>SparkContext</b></p>\n",
       "\n",
       "            <p><a href=\"http://ravikumar:4040\">Spark UI</a></p>\n",
       "\n",
       "            <dl>\n",
       "              <dt>Version</dt>\n",
       "                <dd><code>v4.0.0</code></dd>\n",
       "              <dt>Master</dt>\n",
       "                <dd><code>local[*]</code></dd>\n",
       "              <dt>AppName</dt>\n",
       "                <dd><code>Learning Spark</code></dd>\n",
       "            </dl>\n",
       "        </div>\n",
       "        \n",
       "            </div>\n",
       "        "
      ],
      "text/plain": [
       "<pyspark.sql.session.SparkSession at 0x751ac35b1a90>"
      ]
     },
     "execution_count": 7,
     "metadata": {},
     "output_type": "execute_result"
    }
   ],
   "source": [
    "from utils.spark_config import get_spark_session\n",
    "from configs.paths import ROOT_DIR\n",
    "\n",
    "MODEL_DIR = ROOT_DIR / \"models\"\n",
    "spark = get_spark_session()\n",
    "spark"
   ]
  },
  {
   "cell_type": "code",
   "execution_count": 10,
   "id": "e3eacab9",
   "metadata": {},
   "outputs": [
    {
     "name": "stderr",
     "output_type": "stream",
     "text": [
      "                                                                                \r"
     ]
    },
    {
     "data": {
      "text/plain": [
       "PipelineModel_4d1bc5146566"
      ]
     },
     "execution_count": 10,
     "metadata": {},
     "output_type": "execute_result"
    }
   ],
   "source": [
    "from pyspark.ml.classification import RandomForestClassificationModel\n",
    "from pyspark.ml import PipelineModel\n",
    "\n",
    "pipeline_model = PipelineModel.load(f\"{MODEL_DIR}/churn_pipeline\")\n",
    "\n",
    "pipeline_model"
   ]
  },
  {
   "cell_type": "code",
   "execution_count": 11,
   "id": "b90c1f2e",
   "metadata": {},
   "outputs": [
    {
     "name": "stdout",
     "output_type": "stream",
     "text": [
      "+----------+-----+-------------------------------------+-----------------------------+----------------------------+---------------------------------+---------------------------+---------------------------+----------------------------------------+------------------------------------+---------------------------------------------+-----------------------------------------------+-------------+-------+----------+------+------------+-------------+--------------+------------+----------------+-----------+-----------+---------------+----------------+--------------+------------+\n",
      "|CustomerID|Churn|InternetService_index_ohe_Fiber_optic|InternetService_index_ohe_DSL|InternetService_index_ohe_No|Contract_index_ohe_Month_to_month|Contract_index_ohe_Two_year|Contract_index_ohe_One_year|PaymentMethod_index_ohe_Electronic_check|PaymentMethod_index_ohe_Mailed_check|PaymentMethod_index_ohe_Credit_card_automatic|PaymentMethod_index_ohe_Bank_transfer_automatic|SeniorCitizen|Partner|Dependents|tenure|PhoneService|MultipleLines|OnlineSecurity|OnlineBackup|DeviceProtection|TechSupport|StreamingTV|StreamingMovies|PaperlessBilling|MonthlyCharges|TotalCharges|\n",
      "+----------+-----+-------------------------------------+-----------------------------+----------------------------+---------------------------------+---------------------------+---------------------------+----------------------------------------+------------------------------------+---------------------------------------------+-----------------------------------------------+-------------+-------+----------+------+------------+-------------+--------------+------------+----------------+-----------+-----------+---------------+----------------+--------------+------------+\n",
      "|7590-VHVEG|   No|                                  0.0|                          1.0|                         0.0|                              1.0|                        0.0|                        0.0|                                     1.0|                                 0.0|                                          0.0|                                            0.0|          0.0|    1.0|       0.0|   1.0|         0.0|          0.0|           0.0|         1.0|             0.0|        0.0|        0.0|            0.0|             1.0|         29.85|       29.85|\n",
      "|5575-GNVDE|   No|                                  0.0|                          1.0|                         0.0|                              0.0|                        0.0|                        1.0|                                     0.0|                                 1.0|                                          0.0|                                            0.0|          0.0|    0.0|       0.0|  34.0|         1.0|          0.0|           1.0|         0.0|             1.0|        0.0|        0.0|            0.0|             0.0|         56.95|      1889.5|\n",
      "|3668-QPYBK|  Yes|                                  0.0|                          1.0|                         0.0|                              1.0|                        0.0|                        0.0|                                     0.0|                                 1.0|                                          0.0|                                            0.0|          0.0|    0.0|       0.0|   2.0|         1.0|          0.0|           1.0|         1.0|             0.0|        0.0|        0.0|            0.0|             1.0|         53.85|      108.15|\n",
      "|7795-CFOCW|   No|                                  0.0|                          1.0|                         0.0|                              0.0|                        0.0|                        1.0|                                     0.0|                                 0.0|                                          0.0|                                            1.0|          0.0|    0.0|       0.0|  45.0|         0.0|          0.0|           1.0|         0.0|             1.0|        1.0|        0.0|            0.0|             0.0|          42.3|     1840.75|\n",
      "|9237-HQITU|  Yes|                                  1.0|                          0.0|                         0.0|                              1.0|                        0.0|                        0.0|                                     1.0|                                 0.0|                                          0.0|                                            0.0|          0.0|    0.0|       0.0|   2.0|         1.0|          0.0|           0.0|         0.0|             0.0|        0.0|        0.0|            0.0|             1.0|          70.7|      151.65|\n",
      "+----------+-----+-------------------------------------+-----------------------------+----------------------------+---------------------------------+---------------------------+---------------------------+----------------------------------------+------------------------------------+---------------------------------------------+-----------------------------------------------+-------------+-------+----------+------+------------+-------------+--------------+------------+----------------+-----------+-----------+---------------+----------------+--------------+------------+\n",
      "only showing top 5 rows\n"
     ]
    }
   ],
   "source": [
    "churn = spark.read.format(\"delta\").load(f\"{ROOT_DIR}/data/gold/customer_churn_gold\")\n",
    "churn.show(5)"
   ]
  },
  {
   "cell_type": "code",
   "execution_count": 16,
   "id": "ea105232",
   "metadata": {},
   "outputs": [
    {
     "name": "stderr",
     "output_type": "stream",
     "text": [
      "25/08/21 12:17:52 WARN DAGScheduler: Broadcasting large task binary with size 3.7 MiB\n",
      "                                                                                \r"
     ]
    },
    {
     "name": "stdout",
     "output_type": "stream",
     "text": [
      "AUC: 0.7642039651813171\n"
     ]
    },
    {
     "name": "stderr",
     "output_type": "stream",
     "text": [
      "25/08/21 12:17:53 WARN DAGScheduler: Broadcasting large task binary with size 3.7 MiB\n"
     ]
    },
    {
     "name": "stdout",
     "output_type": "stream",
     "text": [
      "Accuracy: 0.8417235494880546\n"
     ]
    },
    {
     "name": "stderr",
     "output_type": "stream",
     "text": [
      "                                                                                \r"
     ]
    }
   ],
   "source": [
    "from pyspark.ml.evaluation import BinaryClassificationEvaluator, MulticlassClassificationEvaluator\n",
    "outcomes = pipeline_model.transform(churn).select(\"CustomerId\", \"label\", \"prediction\")\n",
    "\n",
    "\n",
    "# AUC (area under ROC)\n",
    "binary_eval = BinaryClassificationEvaluator(labelCol=\"label\", rawPredictionCol=\"prediction\", metricName=\"areaUnderROC\")\n",
    "auc = binary_eval.evaluate(outcomes)\n",
    "print(f\"AUC: {auc}\")\n",
    "\n",
    "# Accuracy\n",
    "multiclass_eval = MulticlassClassificationEvaluator(labelCol=\"label\", predictionCol=\"prediction\", metricName=\"accuracy\")\n",
    "accuracy = multiclass_eval.evaluate(outcomes)\n",
    "print(f\"Accuracy: {accuracy}\")"
   ]
  },
  {
   "cell_type": "code",
   "execution_count": null,
   "id": "c092dce8",
   "metadata": {},
   "outputs": [],
   "source": []
  }
 ],
 "metadata": {
  "kernelspec": {
   "display_name": "learning-spark",
   "language": "python",
   "name": "python3"
  },
  "language_info": {
   "codemirror_mode": {
    "name": "ipython",
    "version": 3
   },
   "file_extension": ".py",
   "mimetype": "text/x-python",
   "name": "python",
   "nbconvert_exporter": "python",
   "pygments_lexer": "ipython3",
   "version": "3.13.3"
  }
 },
 "nbformat": 4,
 "nbformat_minor": 5
}
