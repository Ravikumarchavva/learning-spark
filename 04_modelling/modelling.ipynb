{
 "cells": [
  {
   "cell_type": "code",
   "execution_count": 1,
   "id": "09a45724",
   "metadata": {},
   "outputs": [
    {
     "name": "stderr",
     "output_type": "stream",
     "text": [
      "WARNING: Using incubator modules: jdk.incubator.vector\n",
      "Warning: Ignoring non-Spark config property: javax.jdo.option.ConnectionURL\n",
      ":: loading settings :: url = jar:file:/home/administrator/Desktop/datascience/github/learning-spark/.venv/lib/python3.13/site-packages/pyspark/jars/ivy-2.5.3.jar!/org/apache/ivy/core/settings/ivysettings.xml\n",
      "Ivy Default Cache set to: /home/administrator/.ivy2.5.2/cache\n",
      "The jars for the packages stored in: /home/administrator/.ivy2.5.2/jars\n",
      "io.delta#delta-spark_2.13 added as a dependency\n",
      ":: resolving dependencies :: org.apache.spark#spark-submit-parent-5c791278-dddc-4f71-ad8c-d54f41563a1c;1.0\n",
      "\tconfs: [default]\n",
      "\tfound io.delta#delta-spark_2.13;4.0.0 in central\n",
      "\tfound io.delta#delta-storage;4.0.0 in central\n",
      "\tfound org.antlr#antlr4-runtime;4.13.1 in central\n",
      ":: resolution report :: resolve 147ms :: artifacts dl 4ms\n",
      "\t:: modules in use:\n",
      "\tio.delta#delta-spark_2.13;4.0.0 from central in [default]\n",
      "\tio.delta#delta-storage;4.0.0 from central in [default]\n",
      "\torg.antlr#antlr4-runtime;4.13.1 from central in [default]\n",
      "\t---------------------------------------------------------------------\n",
      "\t|                  |            modules            ||   artifacts   |\n",
      "\t|       conf       | number| search|dwnlded|evicted|| number|dwnlded|\n",
      "\t---------------------------------------------------------------------\n",
      "\t|      default     |   3   |   0   |   0   |   0   ||   3   |   0   |\n",
      "\t---------------------------------------------------------------------\n",
      ":: retrieving :: org.apache.spark#spark-submit-parent-5c791278-dddc-4f71-ad8c-d54f41563a1c\n",
      "\tconfs: [default]\n",
      "\t0 artifacts copied, 3 already retrieved (0kB/4ms)\n",
      "25/08/21 11:30:00 WARN NativeCodeLoader: Unable to load native-hadoop library for your platform... using builtin-java classes where applicable\n",
      "Using Spark's default log4j profile: org/apache/spark/log4j2-defaults.properties\n",
      "Setting default log level to \"WARN\".\n",
      "To adjust logging level use sc.setLogLevel(newLevel). For SparkR, use setLogLevel(newLevel).\n"
     ]
    },
    {
     "data": {
      "text/html": [
       "\n",
       "            <div>\n",
       "                <p><b>SparkSession - hive</b></p>\n",
       "                \n",
       "        <div>\n",
       "            <p><b>SparkContext</b></p>\n",
       "\n",
       "            <p><a href=\"http://ravikumar:4040\">Spark UI</a></p>\n",
       "\n",
       "            <dl>\n",
       "              <dt>Version</dt>\n",
       "                <dd><code>v4.0.0</code></dd>\n",
       "              <dt>Master</dt>\n",
       "                <dd><code>local[*]</code></dd>\n",
       "              <dt>AppName</dt>\n",
       "                <dd><code>Learning Spark</code></dd>\n",
       "            </dl>\n",
       "        </div>\n",
       "        \n",
       "            </div>\n",
       "        "
      ],
      "text/plain": [
       "<pyspark.sql.session.SparkSession at 0x7bd1671bda90>"
      ]
     },
     "execution_count": 1,
     "metadata": {},
     "output_type": "execute_result"
    }
   ],
   "source": [
    "from utils.spark_config import get_spark_session\n",
    "from configs.paths import ROOT_DIR\n",
    "\n",
    "spark = get_spark_session()\n",
    "spark"
   ]
  },
  {
   "cell_type": "code",
   "execution_count": 3,
   "id": "42a08226",
   "metadata": {},
   "outputs": [
    {
     "name": "stderr",
     "output_type": "stream",
     "text": [
      "25/08/21 11:34:44 WARN ObjectStore: Failed to get database delta, returning NoSuchObjectException\n",
      "25/08/21 11:34:46 WARN SparkStringUtils: Truncated the string representation of a plan since it was too large. This behavior can be adjusted by setting 'spark.sql.debug.maxToStringFields'.\n",
      "                                                                                \r"
     ]
    },
    {
     "name": "stdout",
     "output_type": "stream",
     "text": [
      "+----------+-----+-------------------------------------+-----------------------------+----------------------------+---------------------------------+---------------------------+---------------------------+----------------------------------------+------------------------------------+---------------------------------------------+-----------------------------------------------+-------------+-------+----------+------+------------+-------------+--------------+------------+----------------+-----------+-----------+---------------+----------------+--------------+------------+\n",
      "|CustomerID|Churn|InternetService_index_ohe_Fiber_optic|InternetService_index_ohe_DSL|InternetService_index_ohe_No|Contract_index_ohe_Month_to_month|Contract_index_ohe_Two_year|Contract_index_ohe_One_year|PaymentMethod_index_ohe_Electronic_check|PaymentMethod_index_ohe_Mailed_check|PaymentMethod_index_ohe_Credit_card_automatic|PaymentMethod_index_ohe_Bank_transfer_automatic|SeniorCitizen|Partner|Dependents|tenure|PhoneService|MultipleLines|OnlineSecurity|OnlineBackup|DeviceProtection|TechSupport|StreamingTV|StreamingMovies|PaperlessBilling|MonthlyCharges|TotalCharges|\n",
      "+----------+-----+-------------------------------------+-----------------------------+----------------------------+---------------------------------+---------------------------+---------------------------+----------------------------------------+------------------------------------+---------------------------------------------+-----------------------------------------------+-------------+-------+----------+------+------------+-------------+--------------+------------+----------------+-----------+-----------+---------------+----------------+--------------+------------+\n",
      "|7590-VHVEG|   No|                                  0.0|                          1.0|                         0.0|                              1.0|                        0.0|                        0.0|                                     1.0|                                 0.0|                                          0.0|                                            0.0|          0.0|    1.0|       0.0|   1.0|         0.0|          0.0|           0.0|         1.0|             0.0|        0.0|        0.0|            0.0|             1.0|         29.85|       29.85|\n",
      "|5575-GNVDE|   No|                                  0.0|                          1.0|                         0.0|                              0.0|                        0.0|                        1.0|                                     0.0|                                 1.0|                                          0.0|                                            0.0|          0.0|    0.0|       0.0|  34.0|         1.0|          0.0|           1.0|         0.0|             1.0|        0.0|        0.0|            0.0|             0.0|         56.95|      1889.5|\n",
      "|3668-QPYBK|  Yes|                                  0.0|                          1.0|                         0.0|                              1.0|                        0.0|                        0.0|                                     0.0|                                 1.0|                                          0.0|                                            0.0|          0.0|    0.0|       0.0|   2.0|         1.0|          0.0|           1.0|         1.0|             0.0|        0.0|        0.0|            0.0|             1.0|         53.85|      108.15|\n",
      "|7795-CFOCW|   No|                                  0.0|                          1.0|                         0.0|                              0.0|                        0.0|                        1.0|                                     0.0|                                 0.0|                                          0.0|                                            1.0|          0.0|    0.0|       0.0|  45.0|         0.0|          0.0|           1.0|         0.0|             1.0|        1.0|        0.0|            0.0|             0.0|          42.3|     1840.75|\n",
      "|9237-HQITU|  Yes|                                  1.0|                          0.0|                         0.0|                              1.0|                        0.0|                        0.0|                                     1.0|                                 0.0|                                          0.0|                                            0.0|          0.0|    0.0|       0.0|   2.0|         1.0|          0.0|           0.0|         0.0|             0.0|        0.0|        0.0|            0.0|             1.0|          70.7|      151.65|\n",
      "|9305-CDSKC|  Yes|                                  1.0|                          0.0|                         0.0|                              1.0|                        0.0|                        0.0|                                     1.0|                                 0.0|                                          0.0|                                            0.0|          0.0|    0.0|       0.0|   8.0|         1.0|          1.0|           0.0|         0.0|             1.0|        0.0|        1.0|            1.0|             1.0|         99.65|       820.5|\n",
      "|1452-KIOVK|   No|                                  1.0|                          0.0|                         0.0|                              1.0|                        0.0|                        0.0|                                     0.0|                                 0.0|                                          1.0|                                            0.0|          0.0|    0.0|       1.0|  22.0|         1.0|          1.0|           0.0|         1.0|             0.0|        0.0|        1.0|            0.0|             1.0|          89.1|      1949.4|\n",
      "|6713-OKOMC|   No|                                  0.0|                          1.0|                         0.0|                              1.0|                        0.0|                        0.0|                                     0.0|                                 1.0|                                          0.0|                                            0.0|          0.0|    0.0|       0.0|  10.0|         0.0|          0.0|           1.0|         0.0|             0.0|        0.0|        0.0|            0.0|             0.0|         29.75|       301.9|\n",
      "|7892-POOKP|  Yes|                                  1.0|                          0.0|                         0.0|                              1.0|                        0.0|                        0.0|                                     1.0|                                 0.0|                                          0.0|                                            0.0|          0.0|    1.0|       0.0|  28.0|         1.0|          1.0|           0.0|         0.0|             1.0|        1.0|        1.0|            1.0|             1.0|         104.8|     3046.05|\n",
      "|6388-TABGU|   No|                                  0.0|                          1.0|                         0.0|                              0.0|                        0.0|                        1.0|                                     0.0|                                 0.0|                                          0.0|                                            1.0|          0.0|    0.0|       1.0|  62.0|         1.0|          0.0|           1.0|         1.0|             0.0|        0.0|        0.0|            0.0|             0.0|         56.15|     3487.95|\n",
      "|9763-GRSKD|   No|                                  0.0|                          1.0|                         0.0|                              1.0|                        0.0|                        0.0|                                     0.0|                                 1.0|                                          0.0|                                            0.0|          0.0|    1.0|       1.0|  13.0|         1.0|          0.0|           1.0|         0.0|             0.0|        0.0|        0.0|            0.0|             1.0|         49.95|      587.45|\n",
      "|7469-LKBCI|   No|                                  0.0|                          0.0|                         1.0|                              0.0|                        1.0|                        0.0|                                     0.0|                                 0.0|                                          1.0|                                            0.0|          0.0|    0.0|       0.0|  16.0|         1.0|          0.0|           0.0|         0.0|             0.0|        0.0|        0.0|            0.0|             0.0|         18.95|       326.8|\n",
      "|8091-TTVAX|   No|                                  1.0|                          0.0|                         0.0|                              0.0|                        0.0|                        1.0|                                     0.0|                                 0.0|                                          1.0|                                            0.0|          0.0|    1.0|       0.0|  58.0|         1.0|          1.0|           0.0|         0.0|             1.0|        0.0|        1.0|            1.0|             0.0|        100.35|      5681.1|\n",
      "|0280-XJGEX|  Yes|                                  1.0|                          0.0|                         0.0|                              1.0|                        0.0|                        0.0|                                     0.0|                                 0.0|                                          0.0|                                            1.0|          0.0|    0.0|       0.0|  49.0|         1.0|          1.0|           0.0|         1.0|             1.0|        0.0|        1.0|            1.0|             1.0|         103.7|      5036.3|\n",
      "|5129-JLPIS|   No|                                  1.0|                          0.0|                         0.0|                              1.0|                        0.0|                        0.0|                                     1.0|                                 0.0|                                          0.0|                                            0.0|          0.0|    0.0|       0.0|  25.0|         1.0|          0.0|           1.0|         0.0|             1.0|        1.0|        1.0|            1.0|             1.0|         105.5|     2686.05|\n",
      "|3655-SNQYZ|   No|                                  1.0|                          0.0|                         0.0|                              0.0|                        1.0|                        0.0|                                     0.0|                                 0.0|                                          1.0|                                            0.0|          0.0|    1.0|       1.0|  69.0|         1.0|          1.0|           1.0|         1.0|             1.0|        1.0|        1.0|            1.0|             0.0|        113.25|     7895.15|\n",
      "|8191-XWSZG|   No|                                  0.0|                          0.0|                         1.0|                              0.0|                        0.0|                        1.0|                                     0.0|                                 1.0|                                          0.0|                                            0.0|          0.0|    0.0|       0.0|  52.0|         1.0|          0.0|           0.0|         0.0|             0.0|        0.0|        0.0|            0.0|             0.0|         20.65|     1022.95|\n",
      "|9959-WOFKT|   No|                                  1.0|                          0.0|                         0.0|                              0.0|                        1.0|                        0.0|                                     0.0|                                 0.0|                                          0.0|                                            1.0|          0.0|    0.0|       1.0|  71.0|         1.0|          1.0|           1.0|         0.0|             1.0|        0.0|        1.0|            1.0|             0.0|         106.7|     7382.25|\n",
      "|4190-MFLUW|  Yes|                                  0.0|                          1.0|                         0.0|                              1.0|                        0.0|                        0.0|                                     0.0|                                 0.0|                                          1.0|                                            0.0|          0.0|    1.0|       1.0|  10.0|         1.0|          0.0|           0.0|         0.0|             1.0|        1.0|        0.0|            0.0|             0.0|          55.2|      528.35|\n",
      "|4183-MYFRB|   No|                                  1.0|                          0.0|                         0.0|                              1.0|                        0.0|                        0.0|                                     1.0|                                 0.0|                                          0.0|                                            0.0|          0.0|    0.0|       0.0|  21.0|         1.0|          0.0|           0.0|         1.0|             1.0|        0.0|        0.0|            1.0|             1.0|         90.05|      1862.9|\n",
      "+----------+-----+-------------------------------------+-----------------------------+----------------------------+---------------------------------+---------------------------+---------------------------+----------------------------------------+------------------------------------+---------------------------------------------+-----------------------------------------------+-------------+-------+----------+------+------------+-------------+--------------+------------+----------------+-----------+-----------+---------------+----------------+--------------+------------+\n",
      "only showing top 20 rows\n"
     ]
    }
   ],
   "source": [
    "churn = spark.sql(\"SELECT * FROM spark_catalog.delta.`/home/administrator/Desktop/datascience/github/learning-spark/data/gold/customer_churn_gold`\")\n",
    "churn.show()"
   ]
  },
  {
   "cell_type": "code",
   "execution_count": 6,
   "id": "7e182776",
   "metadata": {},
   "outputs": [
    {
     "name": "stderr",
     "output_type": "stream",
     "text": [
      "25/08/21 11:38:35 WARN DAGScheduler: Broadcasting large task binary with size 1630.7 KiB\n",
      "25/08/21 11:38:35 WARN DAGScheduler: Broadcasting large task binary with size 2.6 MiB\n",
      "25/08/21 11:38:36 WARN DAGScheduler: Broadcasting large task binary with size 4.1 MiB\n",
      "25/08/21 11:38:37 WARN DAGScheduler: Broadcasting large task binary with size 6.1 MiB\n",
      "                                                                                \r"
     ]
    }
   ],
   "source": [
    "from pyspark.ml.feature import VectorAssembler, StringIndexer\n",
    "from pyspark.ml import Pipeline\n",
    "from pyspark.ml.classification import RandomForestClassifier\n",
    "\n",
    "# Create label column from Churn column\n",
    "indexer = StringIndexer(inputCol=\"Churn\", outputCol=\"label\")\n",
    "\n",
    "# Create features vector from all numeric columns (excluding CustomerID and Churn)\n",
    "feature_cols = [col for col in churn.columns if col not in ['CustomerID', 'Churn']]\n",
    "assembler = VectorAssembler(inputCols=feature_cols, outputCol=\"features\", handleInvalid=\"skip\")\n",
    "\n",
    "# Create pipeline to prepare data\n",
    "pipeline = Pipeline(stages=[indexer, assembler])\n",
    "pipeline_model = pipeline.fit(churn)\n",
    "prepared_data = pipeline_model.transform(churn)\n",
    "\n",
    "# Split the prepared data\n",
    "train, test = prepared_data.randomSplit([0.8, 0.2], seed=42)\n",
    "\n",
    "# Train RandomForest model\n",
    "rf = RandomForestClassifier(labelCol=\"label\", featuresCol=\"features\", numTrees=100, maxDepth=10, seed=42)\n",
    "rf_model = rf.fit(train)"
   ]
  },
  {
   "cell_type": "code",
   "execution_count": 7,
   "id": "f8b534b5",
   "metadata": {},
   "outputs": [
    {
     "name": "stderr",
     "output_type": "stream",
     "text": [
      "25/08/21 11:38:57 WARN DAGScheduler: Broadcasting large task binary with size 3.4 MiB\n"
     ]
    },
    {
     "name": "stdout",
     "output_type": "stream",
     "text": [
      "+--------------------+-----+----------+\n",
      "|            features|label|prediction|\n",
      "+--------------------+-----+----------+\n",
      "|(25,[0,3,6,13,14,...|  1.0|       1.0|\n",
      "|[1.0,0.0,0.0,0.0,...|  0.0|       0.0|\n",
      "|(25,[1,3,6,10,13,...|  0.0|       0.0|\n",
      "|(25,[0,4,9,13,14,...|  0.0|       0.0|\n",
      "|(25,[1,3,6,10,13,...|  1.0|       1.0|\n",
      "|(25,[2,3,7,13,14,...|  0.0|       0.0|\n",
      "|(25,[2,4,9,11,12,...|  0.0|       0.0|\n",
      "|(25,[2,4,6,12,13,...|  0.0|       0.0|\n",
      "|(25,[1,4,9,11,13,...|  0.0|       0.0|\n",
      "|(25,[1,5,8,13,14,...|  0.0|       0.0|\n",
      "+--------------------+-----+----------+\n",
      "only showing top 10 rows\n"
     ]
    }
   ],
   "source": [
    "rf_model.transform(test).select(\"features\", \"label\", \"prediction\").show(10)"
   ]
  },
  {
   "cell_type": "code",
   "execution_count": null,
   "id": "87abccd5",
   "metadata": {},
   "outputs": [
    {
     "name": "stderr",
     "output_type": "stream",
     "text": [
      "25/08/21 11:43:28 WARN DAGScheduler: Broadcasting large task binary with size 3.4 MiB\n"
     ]
    },
    {
     "name": "stdout",
     "output_type": "stream",
     "text": [
      "AUC: 0.8485727029438023\n"
     ]
    },
    {
     "name": "stderr",
     "output_type": "stream",
     "text": [
      "25/08/21 11:43:29 WARN DAGScheduler: Broadcasting large task binary with size 3.4 MiB\n"
     ]
    },
    {
     "name": "stdout",
     "output_type": "stream",
     "text": [
      "Accuracy: 0.8070044709388972\n"
     ]
    },
    {
     "name": "stderr",
     "output_type": "stream",
     "text": [
      "25/08/21 11:43:30 WARN DAGScheduler: Broadcasting large task binary with size 3.4 MiB\n"
     ]
    },
    {
     "name": "stdout",
     "output_type": "stream",
     "text": [
      "F1 Score: 0.7975549250706114\n"
     ]
    }
   ],
   "source": [
    "from pyspark.ml.evaluation import BinaryClassificationEvaluator, MulticlassClassificationEvaluator\n",
    "\n",
    "# Get predictions\n",
    "predictions = rf_model.transform(test)\n",
    "\n",
    "# AUC (area under ROC)\n",
    "binary_eval = BinaryClassificationEvaluator(labelCol=\"label\", rawPredictionCol=\"rawPrediction\", metricName=\"areaUnderROC\")\n",
    "auc = binary_eval.evaluate(predictions)\n",
    "print(f\"AUC: {auc}\")\n",
    "# Accuracy\n",
    "accuracy_eval = MulticlassClassificationEvaluator(labelCol=\"label\", predictionCol=\"prediction\", metricName=\"accuracy\")\n",
    "accuracy = accuracy_eval.evaluate(predictions)\n",
    "print(f\"Accuracy: {accuracy}\")\n",
    "\n",
    "# F1 Score\n",
    "f1_eval = MulticlassClassificationEvaluator(labelCol=\"label\", predictionCol=\"prediction\", metricName=\"f1\")\n",
    "f1 = f1_eval.evaluate(predictions)\n",
    "print(f\"F1 Score: {f1}\")"
   ]
  },
  {
   "cell_type": "code",
   "execution_count": 13,
   "id": "99ae68f8",
   "metadata": {},
   "outputs": [],
   "source": [
    "# Save the model\n",
    "rf_model.write().overwrite().save(f\"{ROOT_DIR}/models/churn_model\")"
   ]
  },
  {
   "cell_type": "code",
   "execution_count": null,
   "id": "bb0902fc",
   "metadata": {},
   "outputs": [],
   "source": []
  }
 ],
 "metadata": {
  "kernelspec": {
   "display_name": "learning-spark",
   "language": "python",
   "name": "python3"
  },
  "language_info": {
   "codemirror_mode": {
    "name": "ipython",
    "version": 3
   },
   "file_extension": ".py",
   "mimetype": "text/x-python",
   "name": "python",
   "nbconvert_exporter": "python",
   "pygments_lexer": "ipython3",
   "version": "3.13.3"
  }
 },
 "nbformat": 4,
 "nbformat_minor": 5
}
