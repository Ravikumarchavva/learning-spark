{
 "cells": [
  {
   "cell_type": "code",
   "execution_count": 93,
   "id": "0298b3fc",
   "metadata": {},
   "outputs": [],
   "source": [
    "from utils.spark_config import get_spark_session\n",
    "from configs.paths import ROOT_DIR\n",
    "\n",
    "spark = get_spark_session()"
   ]
  },
  {
   "cell_type": "markdown",
   "id": "c09d3ce1",
   "metadata": {},
   "source": [
    "# Data preparation"
   ]
  },
  {
   "cell_type": "code",
   "execution_count": 94,
   "id": "bc209531",
   "metadata": {},
   "outputs": [
    {
     "name": "stdout",
     "output_type": "stream",
     "text": [
      "+----------+------+-------------+-------+----------+------+------------+----------------+---------------+-------------------+-------------------+-------------------+-------------------+-------------------+-------------------+--------------+----------------+--------------------+--------------+------------+-----+\n",
      "|customerID|gender|SeniorCitizen|Partner|Dependents|tenure|PhoneService|   MultipleLines|InternetService|     OnlineSecurity|       OnlineBackup|   DeviceProtection|        TechSupport|        StreamingTV|    StreamingMovies|      Contract|PaperlessBilling|       PaymentMethod|MonthlyCharges|TotalCharges|Churn|\n",
      "+----------+------+-------------+-------+----------+------+------------+----------------+---------------+-------------------+-------------------+-------------------+-------------------+-------------------+-------------------+--------------+----------------+--------------------+--------------+------------+-----+\n",
      "|7590-VHVEG|Female|            0|    Yes|        No|     1|          No|No phone service|            DSL|                 No|                Yes|                 No|                 No|                 No|                 No|Month-to-month|             Yes|    Electronic check|         29.85|       29.85|   No|\n",
      "|5575-GNVDE|  Male|            0|     No|        No|    34|         Yes|              No|            DSL|                Yes|                 No|                Yes|                 No|                 No|                 No|      One year|              No|        Mailed check|         56.95|      1889.5|   No|\n",
      "|3668-QPYBK|  Male|            0|     No|        No|     2|         Yes|              No|            DSL|                Yes|                Yes|                 No|                 No|                 No|                 No|Month-to-month|             Yes|        Mailed check|         53.85|      108.15|  Yes|\n",
      "|7795-CFOCW|  Male|            0|     No|        No|    45|          No|No phone service|            DSL|                Yes|                 No|                Yes|                Yes|                 No|                 No|      One year|              No|Bank transfer (au...|          42.3|     1840.75|   No|\n",
      "|9237-HQITU|Female|            0|     No|        No|     2|         Yes|              No|    Fiber optic|                 No|                 No|                 No|                 No|                 No|                 No|Month-to-month|             Yes|    Electronic check|          70.7|      151.65|  Yes|\n",
      "|9305-CDSKC|Female|            0|     No|        No|     8|         Yes|             Yes|    Fiber optic|                 No|                 No|                Yes|                 No|                Yes|                Yes|Month-to-month|             Yes|    Electronic check|         99.65|       820.5|  Yes|\n",
      "|1452-KIOVK|  Male|            0|     No|       Yes|    22|         Yes|             Yes|    Fiber optic|                 No|                Yes|                 No|                 No|                Yes|                 No|Month-to-month|             Yes|Credit card (auto...|          89.1|      1949.4|   No|\n",
      "|6713-OKOMC|Female|            0|     No|        No|    10|          No|No phone service|            DSL|                Yes|                 No|                 No|                 No|                 No|                 No|Month-to-month|              No|        Mailed check|         29.75|       301.9|   No|\n",
      "|7892-POOKP|Female|            0|    Yes|        No|    28|         Yes|             Yes|    Fiber optic|                 No|                 No|                Yes|                Yes|                Yes|                Yes|Month-to-month|             Yes|    Electronic check|         104.8|     3046.05|  Yes|\n",
      "|6388-TABGU|  Male|            0|     No|       Yes|    62|         Yes|              No|            DSL|                Yes|                Yes|                 No|                 No|                 No|                 No|      One year|              No|Bank transfer (au...|         56.15|     3487.95|   No|\n",
      "|9763-GRSKD|  Male|            0|    Yes|       Yes|    13|         Yes|              No|            DSL|                Yes|                 No|                 No|                 No|                 No|                 No|Month-to-month|             Yes|        Mailed check|         49.95|      587.45|   No|\n",
      "|7469-LKBCI|  Male|            0|     No|        No|    16|         Yes|              No|             No|No internet service|No internet service|No internet service|No internet service|No internet service|No internet service|      Two year|              No|Credit card (auto...|         18.95|       326.8|   No|\n",
      "|8091-TTVAX|  Male|            0|    Yes|        No|    58|         Yes|             Yes|    Fiber optic|                 No|                 No|                Yes|                 No|                Yes|                Yes|      One year|              No|Credit card (auto...|        100.35|      5681.1|   No|\n",
      "|0280-XJGEX|  Male|            0|     No|        No|    49|         Yes|             Yes|    Fiber optic|                 No|                Yes|                Yes|                 No|                Yes|                Yes|Month-to-month|             Yes|Bank transfer (au...|         103.7|      5036.3|  Yes|\n",
      "|5129-JLPIS|  Male|            0|     No|        No|    25|         Yes|              No|    Fiber optic|                Yes|                 No|                Yes|                Yes|                Yes|                Yes|Month-to-month|             Yes|    Electronic check|         105.5|     2686.05|   No|\n",
      "|3655-SNQYZ|Female|            0|    Yes|       Yes|    69|         Yes|             Yes|    Fiber optic|                Yes|                Yes|                Yes|                Yes|                Yes|                Yes|      Two year|              No|Credit card (auto...|        113.25|     7895.15|   No|\n",
      "|8191-XWSZG|Female|            0|     No|        No|    52|         Yes|              No|             No|No internet service|No internet service|No internet service|No internet service|No internet service|No internet service|      One year|              No|        Mailed check|         20.65|     1022.95|   No|\n",
      "|9959-WOFKT|  Male|            0|     No|       Yes|    71|         Yes|             Yes|    Fiber optic|                Yes|                 No|                Yes|                 No|                Yes|                Yes|      Two year|              No|Bank transfer (au...|         106.7|     7382.25|   No|\n",
      "|4190-MFLUW|Female|            0|    Yes|       Yes|    10|         Yes|              No|            DSL|                 No|                 No|                Yes|                Yes|                 No|                 No|Month-to-month|              No|Credit card (auto...|          55.2|      528.35|  Yes|\n",
      "|4183-MYFRB|Female|            0|     No|        No|    21|         Yes|              No|    Fiber optic|                 No|                Yes|                Yes|                 No|                 No|                Yes|Month-to-month|             Yes|    Electronic check|         90.05|      1862.9|   No|\n",
      "+----------+------+-------------+-------+----------+------+------------+----------------+---------------+-------------------+-------------------+-------------------+-------------------+-------------------+-------------------+--------------+----------------+--------------------+--------------+------------+-----+\n",
      "only showing top 20 rows\n"
     ]
    }
   ],
   "source": [
    "churn = spark.read.format(\"delta\").load(str(ROOT_DIR / \"data\" / \"bronze\" / \"customer_churn_bronze\"))\n",
    "churn.show()"
   ]
  },
  {
   "cell_type": "code",
   "execution_count": 95,
   "id": "481cea98",
   "metadata": {},
   "outputs": [
    {
     "name": "stdout",
     "output_type": "stream",
     "text": [
      "+-------+----------+------+------------------+-------+----------+------------------+------------+-------------+---------------+--------------+------------+----------------+-----------+-----------+---------------+--------------+----------------+--------------------+------------------+------------------+-----+\n",
      "|summary|customerID|gender|     SeniorCitizen|Partner|Dependents|            tenure|PhoneService|MultipleLines|InternetService|OnlineSecurity|OnlineBackup|DeviceProtection|TechSupport|StreamingTV|StreamingMovies|      Contract|PaperlessBilling|       PaymentMethod|    MonthlyCharges|      TotalCharges|Churn|\n",
      "+-------+----------+------+------------------+-------+----------+------------------+------------+-------------+---------------+--------------+------------+----------------+-----------+-----------+---------------+--------------+----------------+--------------------+------------------+------------------+-----+\n",
      "|  count|      7043|  7043|              7043|   7043|      7043|              7043|        7043|         7043|           7043|          7043|        7043|            7043|       7043|       7043|           7043|          7043|            7043|                7043|              7043|              7043| 7043|\n",
      "|   mean|      NULL|  NULL|0.1621468124378816|   NULL|      NULL| 32.37114865824223|        NULL|         NULL|           NULL|          NULL|        NULL|            NULL|       NULL|       NULL|           NULL|          NULL|            NULL|                NULL| 64.76169246059922|2283.3004408418697| NULL|\n",
      "| stddev|      NULL|  NULL|0.3686116056100135|   NULL|      NULL|24.559481023094442|        NULL|         NULL|           NULL|          NULL|        NULL|            NULL|       NULL|       NULL|           NULL|          NULL|            NULL|                NULL|30.090047097678482| 2266.771361883145| NULL|\n",
      "|    min|0002-ORFBO|Female|                 0|     No|        No|                 0|          No|           No|            DSL|            No|          No|              No|         No|         No|             No|Month-to-month|              No|Bank transfer (au...|             18.25|                  |   No|\n",
      "|    max|9995-HOTOH|  Male|                 1|    Yes|       Yes|                72|         Yes|          Yes|             No|           Yes|         Yes|             Yes|        Yes|        Yes|            Yes|      Two year|             Yes|        Mailed check|            118.75|             999.9|  Yes|\n",
      "+-------+----------+------+------------------+-------+----------+------------------+------------+-------------+---------------+--------------+------------+----------------+-----------+-----------+---------------+--------------+----------------+--------------------+------------------+------------------+-----+\n",
      "\n"
     ]
    }
   ],
   "source": [
    "churn.describe().show()"
   ]
  },
  {
   "cell_type": "code",
   "execution_count": 96,
   "id": "e99d87a6",
   "metadata": {},
   "outputs": [
    {
     "name": "stdout",
     "output_type": "stream",
     "text": [
      "7043\n",
      "7043\n"
     ]
    }
   ],
   "source": [
    "print(churn.count())\n",
    "churn = churn.filter(~churn.TotalCharges.isNull())\n",
    "print(churn.count())"
   ]
  },
  {
   "cell_type": "markdown",
   "id": "c11f5543",
   "metadata": {},
   "source": [
    "# fixing columns dtypes"
   ]
  },
  {
   "cell_type": "code",
   "execution_count": 97,
   "id": "5b1c9c6a",
   "metadata": {},
   "outputs": [
    {
     "name": "stdout",
     "output_type": "stream",
     "text": [
      "+----------+------+-------------+-------+----------+------+------------+-------------+---------------+--------------+------------+----------------+-----------+-----------+---------------+--------------+----------------+--------------------+--------------+------------+-----+\n",
      "|customerID|gender|SeniorCitizen|Partner|Dependents|tenure|PhoneService|MultipleLines|InternetService|OnlineSecurity|OnlineBackup|DeviceProtection|TechSupport|StreamingTV|StreamingMovies|      Contract|PaperlessBilling|       PaymentMethod|MonthlyCharges|TotalCharges|Churn|\n",
      "+----------+------+-------------+-------+----------+------+------------+-------------+---------------+--------------+------------+----------------+-----------+-----------+---------------+--------------+----------------+--------------------+--------------+------------+-----+\n",
      "|7590-VHVEG|     1|            0|      1|         0|     1|           0|            0|            DSL|             0|           1|               0|          0|          0|              0|Month-to-month|               1|    Electronic check|         29.85|       29.85|    0|\n",
      "|5575-GNVDE|     0|            0|      0|         0|    34|           1|            0|            DSL|             1|           0|               1|          0|          0|              0|      One year|               0|        Mailed check|         56.95|      1889.5|    0|\n",
      "|3668-QPYBK|     0|            0|      0|         0|     2|           1|            0|            DSL|             1|           1|               0|          0|          0|              0|Month-to-month|               1|        Mailed check|         53.85|      108.15|    1|\n",
      "|7795-CFOCW|     0|            0|      0|         0|    45|           0|            0|            DSL|             1|           0|               1|          1|          0|              0|      One year|               0|Bank transfer (au...|          42.3|     1840.75|    0|\n",
      "|9237-HQITU|     1|            0|      0|         0|     2|           1|            0|    Fiber optic|             0|           0|               0|          0|          0|              0|Month-to-month|               1|    Electronic check|          70.7|      151.65|    1|\n",
      "+----------+------+-------------+-------+----------+------+------------+-------------+---------------+--------------+------------+----------------+-----------+-----------+---------------+--------------+----------------+--------------------+--------------+------------+-----+\n",
      "only showing top 5 rows\n"
     ]
    }
   ],
   "source": [
    "from pyspark.sql.functions import col, when\n",
    "from pyspark.sql.types import IntegerType\n",
    "\n",
    "churn = churn.withColumns(\n",
    "    {\n",
    "        'gender': when(col('gender') == 'Female', True).otherwise(False).cast(IntegerType()),\n",
    "        'SeniorCitizen': when(col('SeniorCitizen') == 1, True).otherwise(False).cast(IntegerType()),\n",
    "        'Partner': when(col('Partner') == 'Yes', True).otherwise(False).cast(IntegerType()),\n",
    "        'Dependents': when(col('Dependents') == 'Yes', True).otherwise(False).cast(IntegerType()),\n",
    "        'PhoneService': when(col('PhoneService') == 'Yes', True).otherwise(False).cast(IntegerType()),\n",
    "        'MultipleLines': when(col('MultipleLines') == 'Yes', True).otherwise(False).cast(IntegerType()),\n",
    "        'OnlineSecurity': when(col('OnlineSecurity') == 'Yes', True).otherwise(False).cast(IntegerType()),\n",
    "        'OnlineBackup': when(col('OnlineBackup') == 'Yes', True).otherwise(False).cast(IntegerType()),\n",
    "        'DeviceProtection': when(col('DeviceProtection') == 'Yes', True).otherwise(False).cast(IntegerType()),\n",
    "        'TechSupport': when(col('TechSupport') == 'Yes', True).otherwise(False).cast(IntegerType()),\n",
    "        'StreamingTV': when(col('StreamingTV') == 'Yes', True).otherwise(False).cast(IntegerType()),\n",
    "        'StreamingMovies': when(col('StreamingMovies') == 'Yes', True).otherwise(False).cast(IntegerType()),\n",
    "        'PaperlessBilling': when(col('PaperlessBilling') == 'Yes', True).otherwise(False).cast(IntegerType()),\n",
    "        'TotalCharges': col('TotalCharges').try_cast('double'),\n",
    "        'Churn': when(col('Churn') == 'Yes', 1).otherwise(0).cast(IntegerType()),\n",
    "        \n",
    "\n",
    "    }\n",
    ")\n",
    "churn.show(5)"
   ]
  },
  {
   "cell_type": "markdown",
   "id": "38e0746b",
   "metadata": {},
   "source": [
    "# Feature engineering"
   ]
  },
  {
   "cell_type": "code",
   "execution_count": 98,
   "id": "aa7eb337",
   "metadata": {},
   "outputs": [
    {
     "data": {
      "text/plain": [
       "'InternetService'"
      ]
     },
     "metadata": {},
     "output_type": "display_data"
    },
    {
     "name": "stdout",
     "output_type": "stream",
     "text": [
      "+---------------+-----+\n",
      "|InternetService|count|\n",
      "+---------------+-----+\n",
      "|             No| 1526|\n",
      "|            DSL| 2421|\n",
      "|    Fiber optic| 3096|\n",
      "+---------------+-----+\n",
      "\n"
     ]
    },
    {
     "data": {
      "text/plain": [
       "'Contract'"
      ]
     },
     "metadata": {},
     "output_type": "display_data"
    },
    {
     "name": "stdout",
     "output_type": "stream",
     "text": [
      "+--------------+-----+\n",
      "|      Contract|count|\n",
      "+--------------+-----+\n",
      "|      One year| 1473|\n",
      "|      Two year| 1695|\n",
      "|Month-to-month| 3875|\n",
      "+--------------+-----+\n",
      "\n"
     ]
    },
    {
     "data": {
      "text/plain": [
       "'PaymentMethod'"
      ]
     },
     "metadata": {},
     "output_type": "display_data"
    },
    {
     "name": "stdout",
     "output_type": "stream",
     "text": [
      "+--------------------+-----+\n",
      "|       PaymentMethod|count|\n",
      "+--------------------+-----+\n",
      "|Credit card (auto...| 1522|\n",
      "|Bank transfer (au...| 1544|\n",
      "|        Mailed check| 1612|\n",
      "|    Electronic check| 2365|\n",
      "+--------------------+-----+\n",
      "\n"
     ]
    }
   ],
   "source": [
    "categorical_columns = ['InternetService', 'Contract', 'PaymentMethod']\n",
    "numerical_columns = ['SeniorCitizen', 'Partner', 'Dependents', 'tenure', 'PhoneService',\n",
    "                    'MultipleLines', 'OnlineSecurity', 'OnlineBackup', 'DeviceProtection',\n",
    "                    'TechSupport', 'StreamingTV', 'StreamingMovies', 'PaperlessBilling',\n",
    "                    'MonthlyCharges', 'TotalCharges', 'Churn']\n",
    "for column in categorical_columns:\n",
    "    display(column)\n",
    "    churn.groupBy(column).count().orderBy('count').show()"
   ]
  },
  {
   "cell_type": "markdown",
   "id": "aa7c7f98",
   "metadata": {},
   "source": [
    "## Indexer"
   ]
  },
  {
   "cell_type": "code",
   "execution_count": 99,
   "id": "02356003",
   "metadata": {},
   "outputs": [
    {
     "name": "stdout",
     "output_type": "stream",
     "text": [
      "+----------+------+-------------+-------+----------+------+------------+-------------+---------------+--------------+------------+----------------+-----------+-----------+---------------+--------------+----------------+--------------------+--------------+------------+-----+---------------------+--------------+-------------------+\n",
      "|customerID|gender|SeniorCitizen|Partner|Dependents|tenure|PhoneService|MultipleLines|InternetService|OnlineSecurity|OnlineBackup|DeviceProtection|TechSupport|StreamingTV|StreamingMovies|      Contract|PaperlessBilling|       PaymentMethod|MonthlyCharges|TotalCharges|Churn|InternetService_index|Contract_index|PaymentMethod_index|\n",
      "+----------+------+-------------+-------+----------+------+------------+-------------+---------------+--------------+------------+----------------+-----------+-----------+---------------+--------------+----------------+--------------------+--------------+------------+-----+---------------------+--------------+-------------------+\n",
      "|7590-VHVEG|     1|            0|      1|         0|     1|           0|            0|            DSL|             0|           1|               0|          0|          0|              0|Month-to-month|               1|    Electronic check|         29.85|       29.85|    0|                  1.0|           0.0|                0.0|\n",
      "|5575-GNVDE|     0|            0|      0|         0|    34|           1|            0|            DSL|             1|           0|               1|          0|          0|              0|      One year|               0|        Mailed check|         56.95|      1889.5|    0|                  1.0|           2.0|                1.0|\n",
      "|3668-QPYBK|     0|            0|      0|         0|     2|           1|            0|            DSL|             1|           1|               0|          0|          0|              0|Month-to-month|               1|        Mailed check|         53.85|      108.15|    1|                  1.0|           0.0|                1.0|\n",
      "|7795-CFOCW|     0|            0|      0|         0|    45|           0|            0|            DSL|             1|           0|               1|          1|          0|              0|      One year|               0|Bank transfer (au...|          42.3|     1840.75|    0|                  1.0|           2.0|                2.0|\n",
      "|9237-HQITU|     1|            0|      0|         0|     2|           1|            0|    Fiber optic|             0|           0|               0|          0|          0|              0|Month-to-month|               1|    Electronic check|          70.7|      151.65|    1|                  0.0|           0.0|                0.0|\n",
      "+----------+------+-------------+-------+----------+------+------------+-------------+---------------+--------------+------------+----------------+-----------+-----------+---------------+--------------+----------------+--------------------+--------------+------------+-----+---------------------+--------------+-------------------+\n",
      "only showing top 5 rows\n"
     ]
    }
   ],
   "source": [
    "from pyspark.ml.feature import StringIndexer, OneHotEncoder\n",
    "\n",
    "indexers = StringIndexer(inputCols=categorical_columns, outputCols=[f\"{col}_index\" for col in categorical_columns], handleInvalid='skip')\n",
    "indexers_model = indexers.fit(churn)\n",
    "indexed_df = indexers_model.transform(churn)\n",
    "\n",
    "indexed_df.show(5)"
   ]
  },
  {
   "cell_type": "markdown",
   "id": "7285e3dd",
   "metadata": {},
   "source": [
    "## encoder"
   ]
  },
  {
   "cell_type": "code",
   "execution_count": 100,
   "id": "a7a46040",
   "metadata": {},
   "outputs": [
    {
     "name": "stdout",
     "output_type": "stream",
     "text": [
      "+----------+------+-------------+-------+----------+------+------------+-------------+---------------+--------------+------------+----------------+-----------+-----------+---------------+--------------+----------------+--------------------+--------------+------------+-----+---------------------+--------------+-------------------+-------------------------+------------------+-----------------------+\n",
      "|customerID|gender|SeniorCitizen|Partner|Dependents|tenure|PhoneService|MultipleLines|InternetService|OnlineSecurity|OnlineBackup|DeviceProtection|TechSupport|StreamingTV|StreamingMovies|      Contract|PaperlessBilling|       PaymentMethod|MonthlyCharges|TotalCharges|Churn|InternetService_index|Contract_index|PaymentMethod_index|InternetService_index_ohe|Contract_index_ohe|PaymentMethod_index_ohe|\n",
      "+----------+------+-------------+-------+----------+------+------------+-------------+---------------+--------------+------------+----------------+-----------+-----------+---------------+--------------+----------------+--------------------+--------------+------------+-----+---------------------+--------------+-------------------+-------------------------+------------------+-----------------------+\n",
      "|7590-VHVEG|     1|            0|      1|         0|     1|           0|            0|            DSL|             0|           1|               0|          0|          0|              0|Month-to-month|               1|    Electronic check|         29.85|       29.85|    0|                  1.0|           0.0|                0.0|            (3,[1],[1.0])|     (3,[0],[1.0])|          (4,[0],[1.0])|\n",
      "|5575-GNVDE|     0|            0|      0|         0|    34|           1|            0|            DSL|             1|           0|               1|          0|          0|              0|      One year|               0|        Mailed check|         56.95|      1889.5|    0|                  1.0|           2.0|                1.0|            (3,[1],[1.0])|     (3,[2],[1.0])|          (4,[1],[1.0])|\n",
      "|3668-QPYBK|     0|            0|      0|         0|     2|           1|            0|            DSL|             1|           1|               0|          0|          0|              0|Month-to-month|               1|        Mailed check|         53.85|      108.15|    1|                  1.0|           0.0|                1.0|            (3,[1],[1.0])|     (3,[0],[1.0])|          (4,[1],[1.0])|\n",
      "|7795-CFOCW|     0|            0|      0|         0|    45|           0|            0|            DSL|             1|           0|               1|          1|          0|              0|      One year|               0|Bank transfer (au...|          42.3|     1840.75|    0|                  1.0|           2.0|                2.0|            (3,[1],[1.0])|     (3,[2],[1.0])|          (4,[2],[1.0])|\n",
      "|9237-HQITU|     1|            0|      0|         0|     2|           1|            0|    Fiber optic|             0|           0|               0|          0|          0|              0|Month-to-month|               1|    Electronic check|          70.7|      151.65|    1|                  0.0|           0.0|                0.0|            (3,[0],[1.0])|     (3,[0],[1.0])|          (4,[0],[1.0])|\n",
      "+----------+------+-------------+-------+----------+------+------------+-------------+---------------+--------------+------------+----------------+-----------+-----------+---------------+--------------+----------------+--------------------+--------------+------------+-----+---------------------+--------------+-------------------+-------------------------+------------------+-----------------------+\n",
      "only showing top 5 rows\n"
     ]
    }
   ],
   "source": [
    "ohe_cols = [f\"{col}_index\" for col in categorical_columns]\n",
    "encoders = OneHotEncoder(inputCols=ohe_cols, outputCols=[f\"{col}_ohe\" for col in ohe_cols], handleInvalid='skip')\n",
    "encoders = OneHotEncoder(inputCols=ohe_cols, outputCols=[f\"{col}_ohe\" for col in ohe_cols], handleInvalid='keep')\n",
    "ohe_model = encoders.fit(indexed_df)\n",
    "ohe_df = ohe_model.transform(indexed_df)\n",
    "ohe_df.show(5)"
   ]
  },
  {
   "cell_type": "markdown",
   "id": "e4c953a9",
   "metadata": {},
   "source": [
    "## vector assembler"
   ]
  },
  {
   "cell_type": "code",
   "execution_count": 101,
   "id": "1ce4910c",
   "metadata": {},
   "outputs": [
    {
     "name": "stdout",
     "output_type": "stream",
     "text": [
      "+----------+------+-------------+-------+----------+------+------------+-------------+---------------+--------------+------------+----------------+-----------+-----------+---------------+--------------+----------------+--------------------+--------------+------------+-----+---------------------+--------------+-------------------+-------------------------+------------------+-----------------------+--------------------+\n",
      "|customerID|gender|SeniorCitizen|Partner|Dependents|tenure|PhoneService|MultipleLines|InternetService|OnlineSecurity|OnlineBackup|DeviceProtection|TechSupport|StreamingTV|StreamingMovies|      Contract|PaperlessBilling|       PaymentMethod|MonthlyCharges|TotalCharges|Churn|InternetService_index|Contract_index|PaymentMethod_index|InternetService_index_ohe|Contract_index_ohe|PaymentMethod_index_ohe|            features|\n",
      "+----------+------+-------------+-------+----------+------+------------+-------------+---------------+--------------+------------+----------------+-----------+-----------+---------------+--------------+----------------+--------------------+--------------+------------+-----+---------------------+--------------+-------------------+-------------------------+------------------+-----------------------+--------------------+\n",
      "|7590-VHVEG|     1|            0|      1|         0|     1|           0|            0|            DSL|             0|           1|               0|          0|          0|              0|Month-to-month|               1|    Electronic check|         29.85|       29.85|    0|                  1.0|           0.0|                0.0|            (3,[1],[1.0])|     (3,[0],[1.0])|          (4,[0],[1.0])|(26,[1,3,6,11,13,...|\n",
      "|5575-GNVDE|     0|            0|      0|         0|    34|           1|            0|            DSL|             1|           0|               1|          0|          0|              0|      One year|               0|        Mailed check|         56.95|      1889.5|    0|                  1.0|           2.0|                1.0|            (3,[1],[1.0])|     (3,[2],[1.0])|          (4,[1],[1.0])|(26,[1,5,7,13,14,...|\n",
      "|3668-QPYBK|     0|            0|      0|         0|     2|           1|            0|            DSL|             1|           1|               0|          0|          0|              0|Month-to-month|               1|        Mailed check|         53.85|      108.15|    1|                  1.0|           0.0|                1.0|            (3,[1],[1.0])|     (3,[0],[1.0])|          (4,[1],[1.0])|(26,[1,3,7,13,14,...|\n",
      "|7795-CFOCW|     0|            0|      0|         0|    45|           0|            0|            DSL|             1|           0|               1|          1|          0|              0|      One year|               0|Bank transfer (au...|          42.3|     1840.75|    0|                  1.0|           2.0|                2.0|            (3,[1],[1.0])|     (3,[2],[1.0])|          (4,[2],[1.0])|(26,[1,5,8,13,16,...|\n",
      "|9237-HQITU|     1|            0|      0|         0|     2|           1|            0|    Fiber optic|             0|           0|               0|          0|          0|              0|Month-to-month|               1|    Electronic check|          70.7|      151.65|    1|                  0.0|           0.0|                0.0|            (3,[0],[1.0])|     (3,[0],[1.0])|          (4,[0],[1.0])|(26,[0,3,6,13,14,...|\n",
      "+----------+------+-------------+-------+----------+------+------------+-------------+---------------+--------------+------------+----------------+-----------+-----------+---------------+--------------+----------------+--------------------+--------------+------------+-----+---------------------+--------------+-------------------+-------------------------+------------------+-----------------------+--------------------+\n",
      "only showing top 5 rows\n"
     ]
    }
   ],
   "source": [
    "from pyspark.ml.feature import VectorAssembler\n",
    "\n",
    "vector_assembler = VectorAssembler(inputCols=[f\"{col}_ohe\" for col in ohe_cols] + numerical_columns, outputCol='features', handleInvalid='keep')\n",
    "vector_df = vector_assembler.transform(ohe_df)\n",
    "vector_df.show(5)"
   ]
  },
  {
   "cell_type": "markdown",
   "id": "5f785bdf",
   "metadata": {},
   "source": [
    "# Split data"
   ]
  },
  {
   "cell_type": "code",
   "execution_count": null,
   "id": "41ee75d9",
   "metadata": {},
   "outputs": [],
   "source": [
    "target_col = 'Churn'\n",
    "primary_key = 'customerID'\n",
    "\n",
    "label_indexer = StringIndexer(inputCol=target_col, outputCol='label', handleInvalid='skip')\n",
    "\n",
    "train_df, test_df = churn.randomSplit([0.8, 0.2], seed=42)"
   ]
  },
  {
   "cell_type": "markdown",
   "id": "13536bf9",
   "metadata": {},
   "source": [
    "## Pipeline"
   ]
  },
  {
   "cell_type": "code",
   "execution_count": 103,
   "id": "752aef84",
   "metadata": {},
   "outputs": [
    {
     "name": "stdout",
     "output_type": "stream",
     "text": [
      "Pipeline model saved to: /home/administrator/Desktop/datascience/github/learning-spark/models/preprocessing_pipeline\n"
     ]
    }
   ],
   "source": [
    "from pyspark.ml import Pipeline\n",
    "\n",
    "pipeline = Pipeline(stages=[indexers, encoders, vector_assembler, label_indexer])\n",
    "pipeline_model = pipeline.fit(train_df)\n",
    "# Save the fitted pipeline model\n",
    "pipeline_model_path = str(ROOT_DIR / \"models\" / \"preprocessing_pipeline\")\n",
    "pipeline_model.write().overwrite().save(pipeline_model_path)\n",
    "print(f\"Pipeline model saved to: {pipeline_model_path}\")"
   ]
  },
  {
   "cell_type": "code",
   "execution_count": null,
   "id": "dbec13b0",
   "metadata": {},
   "outputs": [],
   "source": [
    "churn_df = pipeline_model.transform(churn).select(primary_key, 'features', 'label')"
   ]
  },
  {
   "cell_type": "code",
   "execution_count": 111,
   "id": "8c9abd81",
   "metadata": {},
   "outputs": [
    {
     "name": "stdout",
     "output_type": "stream",
     "text": [
      "+----------+--------------------+-----+\n",
      "|customerID|            features|label|\n",
      "+----------+--------------------+-----+\n",
      "|7590-VHVEG|(26,[1,3,6,11,13,...|  0.0|\n",
      "|5575-GNVDE|(26,[1,5,7,13,14,...|  0.0|\n",
      "|3668-QPYBK|(26,[1,3,7,13,14,...|  1.0|\n",
      "|7795-CFOCW|(26,[1,5,9,13,16,...|  0.0|\n",
      "|9237-HQITU|(26,[0,3,6,13,14,...|  1.0|\n",
      "|9305-CDSKC|(26,[0,3,6,13,14,...|  1.0|\n",
      "|1452-KIOVK|(26,[0,3,8,12,13,...|  0.0|\n",
      "|6713-OKOMC|(26,[1,3,7,13,16,...|  0.0|\n",
      "|7892-POOKP|(26,[0,3,6,11,13,...|  1.0|\n",
      "|6388-TABGU|(26,[1,5,9,12,13,...|  0.0|\n",
      "|9763-GRSKD|(26,[1,3,7,11,12,...|  0.0|\n",
      "|7469-LKBCI|(26,[2,4,8,13,14,...|  0.0|\n",
      "|8091-TTVAX|(26,[0,5,8,11,13,...|  0.0|\n",
      "|0280-XJGEX|(26,[0,3,9,13,14,...|  1.0|\n",
      "|5129-JLPIS|(26,[0,3,6,13,14,...|  0.0|\n",
      "|3655-SNQYZ|(26,[0,4,8,11,12,...|  0.0|\n",
      "|8191-XWSZG|(26,[2,5,7,13,14,...|  0.0|\n",
      "|9959-WOFKT|(26,[0,4,9,12,13,...|  0.0|\n",
      "|4190-MFLUW|(26,[1,3,8,11,12,...|  1.0|\n",
      "|4183-MYFRB|(26,[0,3,6,13,14,...|  0.0|\n",
      "+----------+--------------------+-----+\n",
      "only showing top 20 rows\n"
     ]
    }
   ],
   "source": [
    "churn_df.show()"
   ]
  },
  {
   "cell_type": "code",
   "execution_count": 113,
   "id": "c6d26eee",
   "metadata": {},
   "outputs": [],
   "source": [
    "churn_df.write.format(\"delta\").mode(\"overwrite\").save(str(ROOT_DIR / \"data\" / \"silver\" / \"customer_churn_silver\"))"
   ]
  },
  {
   "cell_type": "code",
   "execution_count": 114,
   "id": "71da27f4",
   "metadata": {},
   "outputs": [],
   "source": [
    "spark.stop()"
   ]
  },
  {
   "cell_type": "code",
   "execution_count": null,
   "id": "da179434",
   "metadata": {},
   "outputs": [],
   "source": []
  }
 ],
 "metadata": {
  "kernelspec": {
   "display_name": "learning-spark",
   "language": "python",
   "name": "python3"
  },
  "language_info": {
   "codemirror_mode": {
    "name": "ipython",
    "version": 3
   },
   "file_extension": ".py",
   "mimetype": "text/x-python",
   "name": "python",
   "nbconvert_exporter": "python",
   "pygments_lexer": "ipython3",
   "version": "3.13.3"
  }
 },
 "nbformat": 4,
 "nbformat_minor": 5
}
