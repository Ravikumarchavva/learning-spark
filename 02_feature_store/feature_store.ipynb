{
 "cells": [
  {
   "cell_type": "code",
   "execution_count": 1,
   "id": "d6a2132a",
   "metadata": {},
   "outputs": [
    {
     "name": "stderr",
     "output_type": "stream",
     "text": [
      "WARNING: Using incubator modules: jdk.incubator.vector\n",
      ":: loading settings :: url = jar:file:/home/administrator/Desktop/datascience/github/learning-spark/.venv/lib/python3.13/site-packages/pyspark/jars/ivy-2.5.3.jar!/org/apache/ivy/core/settings/ivysettings.xml\n",
      "Ivy Default Cache set to: /home/administrator/.ivy2.5.2/cache\n",
      "The jars for the packages stored in: /home/administrator/.ivy2.5.2/jars\n",
      "io.delta#delta-spark_2.13 added as a dependency\n",
      ":: resolving dependencies :: org.apache.spark#spark-submit-parent-df136be1-9d27-42a6-9cb6-f7216ba5833d;1.0\n",
      "\tconfs: [default]\n",
      "\tfound io.delta#delta-spark_2.13;4.0.0 in central\n",
      "\tfound io.delta#delta-storage;4.0.0 in central\n",
      "\tfound org.antlr#antlr4-runtime;4.13.1 in central\n",
      ":: resolution report :: resolve 162ms :: artifacts dl 4ms\n",
      "\t:: modules in use:\n",
      "\tio.delta#delta-spark_2.13;4.0.0 from central in [default]\n",
      "\tio.delta#delta-storage;4.0.0 from central in [default]\n",
      "\torg.antlr#antlr4-runtime;4.13.1 from central in [default]\n",
      "\t---------------------------------------------------------------------\n",
      "\t|                  |            modules            ||   artifacts   |\n",
      "\t|       conf       | number| search|dwnlded|evicted|| number|dwnlded|\n",
      "\t---------------------------------------------------------------------\n",
      "\t|      default     |   3   |   0   |   0   |   0   ||   3   |   0   |\n",
      "\t---------------------------------------------------------------------\n",
      ":: retrieving :: org.apache.spark#spark-submit-parent-df136be1-9d27-42a6-9cb6-f7216ba5833d\n",
      "\tconfs: [default]\n",
      "\t0 artifacts copied, 3 already retrieved (0kB/5ms)\n",
      "25/08/20 19:07:53 WARN NativeCodeLoader: Unable to load native-hadoop library for your platform... using builtin-java classes where applicable\n",
      "Using Spark's default log4j profile: org/apache/spark/log4j2-defaults.properties\n",
      "Setting default log level to \"WARN\".\n",
      "To adjust logging level use sc.setLogLevel(newLevel). For SparkR, use setLogLevel(newLevel).\n"
     ]
    }
   ],
   "source": [
    "from utils.spark_config import get_spark_session\n",
    "from configs.paths import ROOT_DIR\n",
    "\n",
    "spark = get_spark_session()"
   ]
  },
  {
   "cell_type": "code",
   "execution_count": 2,
   "id": "d9f0acc8",
   "metadata": {},
   "outputs": [
    {
     "name": "stderr",
     "output_type": "stream",
     "text": [
      "25/08/20 19:08:00 WARN SparkStringUtils: Truncated the string representation of a plan since it was too large. This behavior can be adjusted by setting 'spark.sql.debug.maxToStringFields'.\n"
     ]
    },
    {
     "name": "stdout",
     "output_type": "stream",
     "text": [
      "+----------+--------------------+-----+\n",
      "|customerID|            features|label|\n",
      "+----------+--------------------+-----+\n",
      "|7590-VHVEG|(26,[1,3,6,11,13,...|  0.0|\n",
      "|5575-GNVDE|(26,[1,5,7,13,14,...|  0.0|\n",
      "|3668-QPYBK|(26,[1,3,7,13,14,...|  1.0|\n",
      "|7795-CFOCW|(26,[1,5,9,13,16,...|  0.0|\n",
      "|9237-HQITU|(26,[0,3,6,13,14,...|  1.0|\n",
      "+----------+--------------------+-----+\n",
      "only showing top 5 rows\n"
     ]
    }
   ],
   "source": [
    "churn_df = spark.read.format(\"delta\").load(str(ROOT_DIR / \"data\" / \"silver\" / \"customer_churn_silver\"))\n",
    "churn_df.show(5)"
   ]
  },
  {
   "cell_type": "code",
   "execution_count": 3,
   "id": "655e6403",
   "metadata": {},
   "outputs": [
    {
     "name": "stdout",
     "output_type": "stream",
     "text": [
      "['InternetService_index_ohe_Fiber optic', 'InternetService_index_ohe_DSL', 'InternetService_index_ohe_No', 'Contract_index_ohe_Month-to-month', 'Contract_index_ohe_Two year', 'Contract_index_ohe_One year', 'PaymentMethod_index_ohe_Electronic check', 'PaymentMethod_index_ohe_Mailed check', 'PaymentMethod_index_ohe_Credit card (automatic)', 'PaymentMethod_index_ohe_Bank transfer (automatic)', 'SeniorCitizen', 'Partner', 'Dependents', 'tenure', 'PhoneService', 'MultipleLines', 'OnlineSecurity', 'OnlineBackup', 'DeviceProtection', 'TechSupport', 'StreamingTV', 'StreamingMovies', 'PaperlessBilling', 'MonthlyCharges', 'TotalCharges', 'Churn']\n"
     ]
    }
   ],
   "source": [
    "attrs = churn_df.schema[\"features\"].metadata[\"ml_attr\"][\"attrs\"]\n",
    "\n",
    "# Flatten metadata dict into feature names\n",
    "feature_names = []\n",
    "for attr_type in [\"binary\", \"numeric\", \"nominal\"]:\n",
    "    if attr_type in attrs:\n",
    "        feature_names += [x[\"name\"] for x in attrs[attr_type]]\n",
    "\n",
    "print(feature_names)"
   ]
  },
  {
   "cell_type": "code",
   "execution_count": 4,
   "id": "915cd925",
   "metadata": {},
   "outputs": [
    {
     "name": "stdout",
     "output_type": "stream",
     "text": [
      "+----------+---------------------------------------------------------------------------------------+-----+----------------------------------------------------------------------------------------------------------------------------------------+\n",
      "|customerID|features                                                                               |label|features_array                                                                                                                          |\n",
      "+----------+---------------------------------------------------------------------------------------+-----+----------------------------------------------------------------------------------------------------------------------------------------+\n",
      "|7590-VHVEG|(26,[1,3,6,11,13,17,22,23,24],[1.0,1.0,1.0,1.0,1.0,1.0,1.0,29.85,29.85])               |0.0  |[0.0, 1.0, 0.0, 1.0, 0.0, 0.0, 1.0, 0.0, 0.0, 0.0, 0.0, 1.0, 0.0, 1.0, 0.0, 0.0, 0.0, 1.0, 0.0, 0.0, 0.0, 0.0, 1.0, 29.85, 29.85, 0.0]  |\n",
      "|5575-GNVDE|(26,[1,5,7,13,14,16,18,23,24],[1.0,1.0,1.0,34.0,1.0,1.0,1.0,56.95,1889.5])             |0.0  |[0.0, 1.0, 0.0, 0.0, 0.0, 1.0, 0.0, 1.0, 0.0, 0.0, 0.0, 0.0, 0.0, 34.0, 1.0, 0.0, 1.0, 0.0, 1.0, 0.0, 0.0, 0.0, 0.0, 56.95, 1889.5, 0.0]|\n",
      "|3668-QPYBK|(26,[1,3,7,13,14,16,17,22,23,24,25],[1.0,1.0,1.0,2.0,1.0,1.0,1.0,1.0,53.85,108.15,1.0])|1.0  |[0.0, 1.0, 0.0, 1.0, 0.0, 0.0, 0.0, 1.0, 0.0, 0.0, 0.0, 0.0, 0.0, 2.0, 1.0, 0.0, 1.0, 1.0, 0.0, 0.0, 0.0, 0.0, 1.0, 53.85, 108.15, 1.0] |\n",
      "|7795-CFOCW|(26,[1,5,9,13,16,18,19,23,24],[1.0,1.0,1.0,45.0,1.0,1.0,1.0,42.3,1840.75])             |0.0  |[0.0, 1.0, 0.0, 0.0, 0.0, 1.0, 0.0, 0.0, 0.0, 1.0, 0.0, 0.0, 0.0, 45.0, 0.0, 0.0, 1.0, 0.0, 1.0, 1.0, 0.0, 0.0, 0.0, 42.3, 1840.75, 0.0]|\n",
      "|9237-HQITU|(26,[0,3,6,13,14,22,23,24,25],[1.0,1.0,1.0,2.0,1.0,1.0,70.7,151.65,1.0])               |1.0  |[1.0, 0.0, 0.0, 1.0, 0.0, 0.0, 1.0, 0.0, 0.0, 0.0, 0.0, 0.0, 0.0, 2.0, 1.0, 0.0, 0.0, 0.0, 0.0, 0.0, 0.0, 0.0, 1.0, 70.7, 151.65, 1.0]  |\n",
      "+----------+---------------------------------------------------------------------------------------+-----+----------------------------------------------------------------------------------------------------------------------------------------+\n",
      "only showing top 5 rows\n"
     ]
    }
   ],
   "source": [
    "from pyspark.ml.functions import vector_to_array\n",
    "from pyspark.sql.functions import col\n",
    "\n",
    "# Convert features vector to array\n",
    "churn = churn_df.withColumn(\"features_array\", vector_to_array(col(\"features\")))\n",
    "\n",
    "churn.show(5, truncate=False)"
   ]
  },
  {
   "cell_type": "code",
   "execution_count": 5,
   "id": "1514738c",
   "metadata": {},
   "outputs": [
    {
     "name": "stdout",
     "output_type": "stream",
     "text": [
      "+----------+---------------------------------------------------------------------------------------+-----+----------------------------------------------------------------------------------------------------------------------------------------+-------------------------------------+-----------------------------+----------------------------+---------------------------------+---------------------------+---------------------------+----------------------------------------+------------------------------------+-----------------------------------------------+-------------------------------------------------+-------------+-------+----------+------+------------+-------------+--------------+------------+----------------+-----------+-----------+---------------+----------------+--------------+------------+-----+\n",
      "|customerID|features                                                                               |label|features_array                                                                                                                          |InternetService_index_ohe_Fiber optic|InternetService_index_ohe_DSL|InternetService_index_ohe_No|Contract_index_ohe_Month-to-month|Contract_index_ohe_Two year|Contract_index_ohe_One year|PaymentMethod_index_ohe_Electronic check|PaymentMethod_index_ohe_Mailed check|PaymentMethod_index_ohe_Credit card (automatic)|PaymentMethod_index_ohe_Bank transfer (automatic)|SeniorCitizen|Partner|Dependents|tenure|PhoneService|MultipleLines|OnlineSecurity|OnlineBackup|DeviceProtection|TechSupport|StreamingTV|StreamingMovies|PaperlessBilling|MonthlyCharges|TotalCharges|Churn|\n",
      "+----------+---------------------------------------------------------------------------------------+-----+----------------------------------------------------------------------------------------------------------------------------------------+-------------------------------------+-----------------------------+----------------------------+---------------------------------+---------------------------+---------------------------+----------------------------------------+------------------------------------+-----------------------------------------------+-------------------------------------------------+-------------+-------+----------+------+------------+-------------+--------------+------------+----------------+-----------+-----------+---------------+----------------+--------------+------------+-----+\n",
      "|7590-VHVEG|(26,[1,3,6,11,13,17,22,23,24],[1.0,1.0,1.0,1.0,1.0,1.0,1.0,29.85,29.85])               |0.0  |[0.0, 1.0, 0.0, 1.0, 0.0, 0.0, 1.0, 0.0, 0.0, 0.0, 0.0, 1.0, 0.0, 1.0, 0.0, 0.0, 0.0, 1.0, 0.0, 0.0, 0.0, 0.0, 1.0, 29.85, 29.85, 0.0]  |0.0                                  |1.0                          |0.0                         |1.0                              |0.0                        |0.0                        |1.0                                     |0.0                                 |0.0                                            |0.0                                              |0.0          |1.0    |0.0       |1.0   |0.0         |0.0          |0.0           |1.0         |0.0             |0.0        |0.0        |0.0            |1.0             |29.85         |29.85       |0.0  |\n",
      "|5575-GNVDE|(26,[1,5,7,13,14,16,18,23,24],[1.0,1.0,1.0,34.0,1.0,1.0,1.0,56.95,1889.5])             |0.0  |[0.0, 1.0, 0.0, 0.0, 0.0, 1.0, 0.0, 1.0, 0.0, 0.0, 0.0, 0.0, 0.0, 34.0, 1.0, 0.0, 1.0, 0.0, 1.0, 0.0, 0.0, 0.0, 0.0, 56.95, 1889.5, 0.0]|0.0                                  |1.0                          |0.0                         |0.0                              |0.0                        |1.0                        |0.0                                     |1.0                                 |0.0                                            |0.0                                              |0.0          |0.0    |0.0       |34.0  |1.0         |0.0          |1.0           |0.0         |1.0             |0.0        |0.0        |0.0            |0.0             |56.95         |1889.5      |0.0  |\n",
      "|3668-QPYBK|(26,[1,3,7,13,14,16,17,22,23,24,25],[1.0,1.0,1.0,2.0,1.0,1.0,1.0,1.0,53.85,108.15,1.0])|1.0  |[0.0, 1.0, 0.0, 1.0, 0.0, 0.0, 0.0, 1.0, 0.0, 0.0, 0.0, 0.0, 0.0, 2.0, 1.0, 0.0, 1.0, 1.0, 0.0, 0.0, 0.0, 0.0, 1.0, 53.85, 108.15, 1.0] |0.0                                  |1.0                          |0.0                         |1.0                              |0.0                        |0.0                        |0.0                                     |1.0                                 |0.0                                            |0.0                                              |0.0          |0.0    |0.0       |2.0   |1.0         |0.0          |1.0           |1.0         |0.0             |0.0        |0.0        |0.0            |1.0             |53.85         |108.15      |1.0  |\n",
      "|7795-CFOCW|(26,[1,5,9,13,16,18,19,23,24],[1.0,1.0,1.0,45.0,1.0,1.0,1.0,42.3,1840.75])             |0.0  |[0.0, 1.0, 0.0, 0.0, 0.0, 1.0, 0.0, 0.0, 0.0, 1.0, 0.0, 0.0, 0.0, 45.0, 0.0, 0.0, 1.0, 0.0, 1.0, 1.0, 0.0, 0.0, 0.0, 42.3, 1840.75, 0.0]|0.0                                  |1.0                          |0.0                         |0.0                              |0.0                        |1.0                        |0.0                                     |0.0                                 |0.0                                            |1.0                                              |0.0          |0.0    |0.0       |45.0  |0.0         |0.0          |1.0           |0.0         |1.0             |1.0        |0.0        |0.0            |0.0             |42.3          |1840.75     |0.0  |\n",
      "|9237-HQITU|(26,[0,3,6,13,14,22,23,24,25],[1.0,1.0,1.0,2.0,1.0,1.0,70.7,151.65,1.0])               |1.0  |[1.0, 0.0, 0.0, 1.0, 0.0, 0.0, 1.0, 0.0, 0.0, 0.0, 0.0, 0.0, 0.0, 2.0, 1.0, 0.0, 0.0, 0.0, 0.0, 0.0, 0.0, 0.0, 1.0, 70.7, 151.65, 1.0]  |1.0                                  |0.0                          |0.0                         |1.0                              |0.0                        |0.0                        |1.0                                     |0.0                                 |0.0                                            |0.0                                              |0.0          |0.0    |0.0       |2.0   |1.0         |0.0          |0.0           |0.0         |0.0             |0.0        |0.0        |0.0            |1.0             |70.7          |151.65      |1.0  |\n",
      "+----------+---------------------------------------------------------------------------------------+-----+----------------------------------------------------------------------------------------------------------------------------------------+-------------------------------------+-----------------------------+----------------------------+---------------------------------+---------------------------+---------------------------+----------------------------------------+------------------------------------+-----------------------------------------------+-------------------------------------------------+-------------+-------+----------+------+------------+-------------+--------------+------------+----------------+-----------+-----------+---------------+----------------+--------------+------------+-----+\n",
      "only showing top 5 rows\n"
     ]
    }
   ],
   "source": [
    "for column_name in feature_names:\n",
    "    churn = churn.withColumn(column_name, col(\"features_array\")[feature_names.index(column_name)])\n",
    "\n",
    "\n",
    "churn.show(5, truncate=False)"
   ]
  },
  {
   "cell_type": "code",
   "execution_count": 6,
   "id": "f62923e9",
   "metadata": {},
   "outputs": [
    {
     "name": "stdout",
     "output_type": "stream",
     "text": [
      "+----------+-------------------------------------+-----------------------------+----------------------------+---------------------------------+---------------------------+---------------------------+----------------------------------------+------------------------------------+-----------------------------------------------+-------------------------------------------------+-------------+-------+----------+------+------------+-------------+--------------+------------+----------------+-----------+-----------+---------------+----------------+--------------+------------+-----+\n",
      "|CustomerID|InternetService_index_ohe_Fiber optic|InternetService_index_ohe_DSL|InternetService_index_ohe_No|Contract_index_ohe_Month-to-month|Contract_index_ohe_Two year|Contract_index_ohe_One year|PaymentMethod_index_ohe_Electronic check|PaymentMethod_index_ohe_Mailed check|PaymentMethod_index_ohe_Credit card (automatic)|PaymentMethod_index_ohe_Bank transfer (automatic)|SeniorCitizen|Partner|Dependents|tenure|PhoneService|MultipleLines|OnlineSecurity|OnlineBackup|DeviceProtection|TechSupport|StreamingTV|StreamingMovies|PaperlessBilling|MonthlyCharges|TotalCharges|Churn|\n",
      "+----------+-------------------------------------+-----------------------------+----------------------------+---------------------------------+---------------------------+---------------------------+----------------------------------------+------------------------------------+-----------------------------------------------+-------------------------------------------------+-------------+-------+----------+------+------------+-------------+--------------+------------+----------------+-----------+-----------+---------------+----------------+--------------+------------+-----+\n",
      "|7590-VHVEG|                                  0.0|                          1.0|                         0.0|                              1.0|                        0.0|                        0.0|                                     1.0|                                 0.0|                                            0.0|                                              0.0|          0.0|    1.0|       0.0|   1.0|         0.0|          0.0|           0.0|         1.0|             0.0|        0.0|        0.0|            0.0|             1.0|         29.85|       29.85|  0.0|\n",
      "|5575-GNVDE|                                  0.0|                          1.0|                         0.0|                              0.0|                        0.0|                        1.0|                                     0.0|                                 1.0|                                            0.0|                                              0.0|          0.0|    0.0|       0.0|  34.0|         1.0|          0.0|           1.0|         0.0|             1.0|        0.0|        0.0|            0.0|             0.0|         56.95|      1889.5|  0.0|\n",
      "|3668-QPYBK|                                  0.0|                          1.0|                         0.0|                              1.0|                        0.0|                        0.0|                                     0.0|                                 1.0|                                            0.0|                                              0.0|          0.0|    0.0|       0.0|   2.0|         1.0|          0.0|           1.0|         1.0|             0.0|        0.0|        0.0|            0.0|             1.0|         53.85|      108.15|  1.0|\n",
      "|7795-CFOCW|                                  0.0|                          1.0|                         0.0|                              0.0|                        0.0|                        1.0|                                     0.0|                                 0.0|                                            0.0|                                              1.0|          0.0|    0.0|       0.0|  45.0|         0.0|          0.0|           1.0|         0.0|             1.0|        1.0|        0.0|            0.0|             0.0|          42.3|     1840.75|  0.0|\n",
      "|9237-HQITU|                                  1.0|                          0.0|                         0.0|                              1.0|                        0.0|                        0.0|                                     1.0|                                 0.0|                                            0.0|                                              0.0|          0.0|    0.0|       0.0|   2.0|         1.0|          0.0|           0.0|         0.0|             0.0|        0.0|        0.0|            0.0|             1.0|          70.7|      151.65|  1.0|\n",
      "+----------+-------------------------------------+-----------------------------+----------------------------+---------------------------------+---------------------------+---------------------------+----------------------------------------+------------------------------------+-----------------------------------------------+-------------------------------------------------+-------------+-------+----------+------+------------+-------------+--------------+------------+----------------+-----------+-----------+---------------+----------------+--------------+------------+-----+\n",
      "only showing top 5 rows\n"
     ]
    }
   ],
   "source": [
    "primary_key = \"CustomerID\"\n",
    "target_column = \"Churn\"\n",
    "feature_names = [name for name in feature_names if name not in [primary_key, target_column]]\n",
    "\n",
    "churn = churn.select(primary_key, *feature_names, target_column)\n",
    "\n",
    "churn.show(5)"
   ]
  },
  {
   "cell_type": "code",
   "execution_count": 7,
   "id": "e63300b2",
   "metadata": {},
   "outputs": [],
   "source": [
    "import re\n",
    "\n",
    "# Function to clean names\n",
    "def clean_colname(name):\n",
    "    name = re.sub(r\"[()]\", \"\", name)   # remove parentheses\n",
    "    name = re.sub(r\"[\\s\\-]+\", \"_\", name)  # replace spaces/hyphens with underscore\n",
    "    return name\n",
    "\n",
    "# Apply to all columns\n",
    "cleaned_cols_churn = [clean_colname(c) for c in churn.columns]\n",
    "\n",
    "churn = churn.toDF(*cleaned_cols_churn)"
   ]
  },
  {
   "cell_type": "code",
   "execution_count": 8,
   "id": "4c06bd39",
   "metadata": {},
   "outputs": [
    {
     "name": "stdout",
     "output_type": "stream",
     "text": [
      "+----------+-------------------------------------+-----------------------------+----------------------------+---------------------------------+---------------------------+---------------------------+----------------------------------------+------------------------------------+---------------------------------------------+-----------------------------------------------+-------------+-------+----------+------+------------+-------------+--------------+------------+----------------+-----------+-----------+---------------+----------------+--------------+------------+-----+\n",
      "|CustomerID|InternetService_index_ohe_Fiber_optic|InternetService_index_ohe_DSL|InternetService_index_ohe_No|Contract_index_ohe_Month_to_month|Contract_index_ohe_Two_year|Contract_index_ohe_One_year|PaymentMethod_index_ohe_Electronic_check|PaymentMethod_index_ohe_Mailed_check|PaymentMethod_index_ohe_Credit_card_automatic|PaymentMethod_index_ohe_Bank_transfer_automatic|SeniorCitizen|Partner|Dependents|tenure|PhoneService|MultipleLines|OnlineSecurity|OnlineBackup|DeviceProtection|TechSupport|StreamingTV|StreamingMovies|PaperlessBilling|MonthlyCharges|TotalCharges|Churn|\n",
      "+----------+-------------------------------------+-----------------------------+----------------------------+---------------------------------+---------------------------+---------------------------+----------------------------------------+------------------------------------+---------------------------------------------+-----------------------------------------------+-------------+-------+----------+------+------------+-------------+--------------+------------+----------------+-----------+-----------+---------------+----------------+--------------+------------+-----+\n",
      "|7590-VHVEG|                                  0.0|                          1.0|                         0.0|                              1.0|                        0.0|                        0.0|                                     1.0|                                 0.0|                                          0.0|                                            0.0|          0.0|    1.0|       0.0|   1.0|         0.0|          0.0|           0.0|         1.0|             0.0|        0.0|        0.0|            0.0|             1.0|         29.85|       29.85|  0.0|\n",
      "|5575-GNVDE|                                  0.0|                          1.0|                         0.0|                              0.0|                        0.0|                        1.0|                                     0.0|                                 1.0|                                          0.0|                                            0.0|          0.0|    0.0|       0.0|  34.0|         1.0|          0.0|           1.0|         0.0|             1.0|        0.0|        0.0|            0.0|             0.0|         56.95|      1889.5|  0.0|\n",
      "|3668-QPYBK|                                  0.0|                          1.0|                         0.0|                              1.0|                        0.0|                        0.0|                                     0.0|                                 1.0|                                          0.0|                                            0.0|          0.0|    0.0|       0.0|   2.0|         1.0|          0.0|           1.0|         1.0|             0.0|        0.0|        0.0|            0.0|             1.0|         53.85|      108.15|  1.0|\n",
      "|7795-CFOCW|                                  0.0|                          1.0|                         0.0|                              0.0|                        0.0|                        1.0|                                     0.0|                                 0.0|                                          0.0|                                            1.0|          0.0|    0.0|       0.0|  45.0|         0.0|          0.0|           1.0|         0.0|             1.0|        1.0|        0.0|            0.0|             0.0|          42.3|     1840.75|  0.0|\n",
      "|9237-HQITU|                                  1.0|                          0.0|                         0.0|                              1.0|                        0.0|                        0.0|                                     1.0|                                 0.0|                                          0.0|                                            0.0|          0.0|    0.0|       0.0|   2.0|         1.0|          0.0|           0.0|         0.0|             0.0|        0.0|        0.0|            0.0|             1.0|          70.7|      151.65|  1.0|\n",
      "+----------+-------------------------------------+-----------------------------+----------------------------+---------------------------------+---------------------------+---------------------------+----------------------------------------+------------------------------------+---------------------------------------------+-----------------------------------------------+-------------+-------+----------+------+------------+-------------+--------------+------------+----------------+-----------+-----------+---------------+----------------+--------------+------------+-----+\n",
      "only showing top 5 rows\n"
     ]
    }
   ],
   "source": [
    "primary_key = \"CustomerID\"\n",
    "target_column = \"Churn\"\n",
    "feature_names = [name for name in churn.columns if name not in [primary_key, target_column]]\n",
    "\n",
    "churn = churn.select(primary_key, *feature_names, target_column)\n",
    "churn.show(5)"
   ]
  },
  {
   "cell_type": "code",
   "execution_count": 9,
   "id": "4abe598c",
   "metadata": {},
   "outputs": [],
   "source": [
    "churn.select(primary_key, *feature_names).write.format(\"delta\").mode(\"overwrite\").save(str(ROOT_DIR / \"data\" / \"ml\" / \"customer_churn_features\"))"
   ]
  },
  {
   "cell_type": "code",
   "execution_count": 10,
   "id": "c1814e2b",
   "metadata": {},
   "outputs": [],
   "source": [
    "spark.stop()\n"
   ]
  },
  {
   "cell_type": "code",
   "execution_count": null,
   "id": "7b3a7878",
   "metadata": {},
   "outputs": [],
   "source": []
  }
 ],
 "metadata": {
  "kernelspec": {
   "display_name": "learning-spark",
   "language": "python",
   "name": "python3"
  },
  "language_info": {
   "codemirror_mode": {
    "name": "ipython",
    "version": 3
   },
   "file_extension": ".py",
   "mimetype": "text/x-python",
   "name": "python",
   "nbconvert_exporter": "python",
   "pygments_lexer": "ipython3",
   "version": "3.13.3"
  }
 },
 "nbformat": 4,
 "nbformat_minor": 5
}
